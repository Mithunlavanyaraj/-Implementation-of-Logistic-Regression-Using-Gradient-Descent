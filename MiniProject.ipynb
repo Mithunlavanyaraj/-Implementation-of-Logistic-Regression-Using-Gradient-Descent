{
  "nbformat": 4,
  "nbformat_minor": 0,
  "metadata": {
    "colab": {
      "provenance": [],
      "authorship_tag": "ABX9TyP+/rPlb+pyyW2BqQhizRsH",
      "include_colab_link": true
    },
    "kernelspec": {
      "name": "python3",
      "display_name": "Python 3"
    },
    "language_info": {
      "name": "python"
    }
  },
  "cells": [
    {
      "cell_type": "markdown",
      "metadata": {
        "id": "view-in-github",
        "colab_type": "text"
      },
      "source": [
        "<a href=\"https://colab.research.google.com/github/Mithunlavanyaraj/-Implementation-of-Logistic-Regression-Using-Gradient-Descent/blob/main/MiniProject.ipynb\" target=\"_parent\"><img src=\"https://colab.research.google.com/assets/colab-badge.svg\" alt=\"Open In Colab\"/></a>"
      ]
    },
    {
      "cell_type": "code",
      "execution_count": 1,
      "metadata": {
        "colab": {
          "base_uri": "https://localhost:8080/"
        },
        "id": "TipO1PRVSt-7",
        "outputId": "efb3b10d-2860-4c71-9941-ef6559f51c3d"
      },
      "outputs": [
        {
          "output_type": "stream",
          "name": "stdout",
          "text": [
            "Collecting pycryptodome\n",
            "  Downloading pycryptodome-3.21.0-cp36-abi3-manylinux_2_17_x86_64.manylinux2014_x86_64.whl.metadata (3.4 kB)\n",
            "Downloading pycryptodome-3.21.0-cp36-abi3-manylinux_2_17_x86_64.manylinux2014_x86_64.whl (2.3 MB)\n",
            "\u001b[?25l   \u001b[90m━━━━━━━━━━━━━━━━━━━━━━━━━━━━━━━━━━━━━━━━\u001b[0m \u001b[32m0.0/2.3 MB\u001b[0m \u001b[31m?\u001b[0m eta \u001b[36m-:--:--\u001b[0m\r\u001b[2K   \u001b[91m━━━━━━━━━━━━━━━━━━━━━━━━\u001b[0m\u001b[90m╺\u001b[0m\u001b[90m━━━━━━━━━━━━━━━\u001b[0m \u001b[32m1.4/2.3 MB\u001b[0m \u001b[31m41.2 MB/s\u001b[0m eta \u001b[36m0:00:01\u001b[0m\r\u001b[2K   \u001b[91m━━━━━━━━━━━━━━━━━━━━━━━━━━━━━━━━━━━━━━━\u001b[0m\u001b[91m╸\u001b[0m \u001b[32m2.3/2.3 MB\u001b[0m \u001b[31m47.1 MB/s\u001b[0m eta \u001b[36m0:00:01\u001b[0m\r\u001b[2K   \u001b[90m━━━━━━━━━━━━━━━━━━━━━━━━━━━━━━━━━━━━━━━━\u001b[0m \u001b[32m2.3/2.3 MB\u001b[0m \u001b[31m30.0 MB/s\u001b[0m eta \u001b[36m0:00:00\u001b[0m\n",
            "\u001b[?25hInstalling collected packages: pycryptodome\n",
            "Successfully installed pycryptodome-3.21.0\n"
          ]
        }
      ],
      "source": [
        "!pip install pycryptodome"
      ]
    },
    {
      "cell_type": "code",
      "source": [
        "from Crypto.Cipher import AES\n",
        "from Crypto.Util.Padding import pad, unpad\n",
        "import hashlib\n",
        "import time\n",
        "import json\n",
        "import pandas as pd\n",
        "\n",
        "# Function to perform AES encryption\n",
        "def AES_encrypt(plaintext, key):\n",
        "    key = key.encode('utf-8')  # Ensure key is in bytes\n",
        "    cipher = AES.new(key, AES.MODE_CBC)\n",
        "    plaintext_bytes = json.dumps(plaintext).encode('utf-8')  # Convert data to JSON string and encode\n",
        "    padded_data = pad(plaintext_bytes, AES.block_size)  # Pad data to AES block size\n",
        "    encrypted_data = cipher.encrypt(padded_data)\n",
        "    return cipher.iv, encrypted_data\n",
        "\n",
        "# Function to perform AES decryption\n",
        "def AES_decrypt(encrypted_data, key, iv):\n",
        "    key = key.encode('utf-8')\n",
        "    cipher = AES.new(key, AES.MODE_CBC, iv)\n",
        "    decrypted_data = unpad(cipher.decrypt(encrypted_data), AES.block_size)\n",
        "    return json.loads(decrypted_data.decode('utf-8'))\n",
        "\n",
        "# Function for hashing (using SHA-256)\n",
        "def hash_data(data):\n",
        "    data_str = json.dumps(data)  # Convert to JSON string\n",
        "    hashed_data = hashlib.sha256(data_str.encode('utf-8')).hexdigest()\n",
        "    return hashed_data\n",
        "\n",
        "# Load Student Dataset\n",
        "data = pd.DataFrame({\n",
        "    'name': ['Alice', 'Bob', 'Charlie'],\n",
        "    'age': [20, 21, 19],\n",
        "    'grade': [3.8, 2.9, 3.2]\n",
        "})\n",
        "\n",
        "# Process dataset into labeled grades\n",
        "data['label'] = data['grade'].apply(lambda x: 'A' if x > 3.5 else ('B' if x > 3 else ('C' if x > 2.5 else 'D')))\n",
        "\n",
        "# Convert dataset to a dictionary for encryption\n",
        "student_data = data.to_dict(orient='records')\n",
        "\n",
        "# AES Encryption\n",
        "encryption_key = \"abcdefghijklmnop\"  # 16-byte key\n",
        "start_time = time.time()\n",
        "iv, encrypted_student_data = AES_encrypt(student_data, encryption_key)\n",
        "aes_time = time.time() - start_time\n",
        "\n",
        "print(\"Encrypted Student Data (AES):\", encrypted_student_data.hex())\n",
        "print(\"IV for AES (to decrypt later):\", iv.hex())\n",
        "\n",
        "# AES Decryption for verification\n",
        "decrypted_data = AES_decrypt(encrypted_student_data, encryption_key, iv)\n",
        "print(\"Decrypted Student Data (AES):\", decrypted_data)\n",
        "\n",
        "# Hashing\n",
        "start_time = time.time()\n",
        "hashed_student_data = hash_data(student_data)\n",
        "hash_time = time.time() - start_time\n",
        "\n",
        "print(\"Hashed Student Data (Hashing):\", hashed_student_data)\n",
        "\n",
        "# Performance Metrics\n",
        "print(f\"AES Encryption Time: {aes_time:.6f} seconds\")\n",
        "print(f\"Hashing Time: {hash_time:.6f} seconds\")\n",
        "\n",
        "# Evaluation Placeholder\n",
        "print(\"Evaluation Results (Placeholder):\")\n",
        "print(\"Accuracy, Precision for AES and Hashing depend on specific use cases.\")"
      ],
      "metadata": {
        "colab": {
          "base_uri": "https://localhost:8080/"
        },
        "id": "1a-Lg05RS6jv",
        "outputId": "682caa60-d79f-48f8-b0f2-d5622cc95b01"
      },
      "execution_count": 2,
      "outputs": [
        {
          "output_type": "stream",
          "name": "stdout",
          "text": [
            "Encrypted Student Data (AES): 54c2c0a00aabedb453ac3b7476de808911533da5670492bc24d19ad6c0852b2be3df7ef69c7ad8465c9d6e3da10e9f00e37f6bfa3919fb643600f80e32c9f06b97fb06375fd2984f682f038d07a256e6191f945f99b8ae9031e1cacbd9c7d4590f636fd0deeb600c0ea5bf870d3d1334d9f9d4337d98166e26ab19cdda18624ceff27a81e995727c83fbe172ddfe8e64b1e8ce6ae63284cbc4ea4cdae8606bff2fc50f8d2f1cd2eb618faa1d66b5a0b1\n",
            "IV for AES (to decrypt later): 09767b465123225308d961a17529f612\n",
            "Decrypted Student Data (AES): [{'name': 'Alice', 'age': 20, 'grade': 3.8, 'label': 'A'}, {'name': 'Bob', 'age': 21, 'grade': 2.9, 'label': 'C'}, {'name': 'Charlie', 'age': 19, 'grade': 3.2, 'label': 'B'}]\n",
            "Hashed Student Data (Hashing): 77c42221d6dbbbb5cc56cbf2303e005cd82e2d506c5acc321085aafeb60c6d38\n",
            "AES Encryption Time: 0.003191 seconds\n",
            "Hashing Time: 0.000123 seconds\n",
            "Evaluation Results (Placeholder):\n",
            "Accuracy, Precision for AES and Hashing depend on specific use cases.\n"
          ]
        }
      ]
    },
    {
      "cell_type": "code",
      "source": [
        "pip install pycryptodome pandas matplotlib numpy"
      ],
      "metadata": {
        "colab": {
          "base_uri": "https://localhost:8080/"
        },
        "id": "Iecwv8wxS-yG",
        "outputId": "7ca4add9-c409-4f2b-e139-a2f210955578"
      },
      "execution_count": 4,
      "outputs": [
        {
          "output_type": "stream",
          "name": "stdout",
          "text": [
            "Requirement already satisfied: pycryptodome in /usr/local/lib/python3.10/dist-packages (3.21.0)\n",
            "Requirement already satisfied: pandas in /usr/local/lib/python3.10/dist-packages (2.2.2)\n",
            "Requirement already satisfied: matplotlib in /usr/local/lib/python3.10/dist-packages (3.8.0)\n",
            "Requirement already satisfied: numpy in /usr/local/lib/python3.10/dist-packages (1.26.4)\n",
            "Requirement already satisfied: python-dateutil>=2.8.2 in /usr/local/lib/python3.10/dist-packages (from pandas) (2.8.2)\n",
            "Requirement already satisfied: pytz>=2020.1 in /usr/local/lib/python3.10/dist-packages (from pandas) (2024.2)\n",
            "Requirement already satisfied: tzdata>=2022.7 in /usr/local/lib/python3.10/dist-packages (from pandas) (2024.2)\n",
            "Requirement already satisfied: contourpy>=1.0.1 in /usr/local/lib/python3.10/dist-packages (from matplotlib) (1.3.1)\n",
            "Requirement already satisfied: cycler>=0.10 in /usr/local/lib/python3.10/dist-packages (from matplotlib) (0.12.1)\n",
            "Requirement already satisfied: fonttools>=4.22.0 in /usr/local/lib/python3.10/dist-packages (from matplotlib) (4.55.3)\n",
            "Requirement already satisfied: kiwisolver>=1.0.1 in /usr/local/lib/python3.10/dist-packages (from matplotlib) (1.4.7)\n",
            "Requirement already satisfied: packaging>=20.0 in /usr/local/lib/python3.10/dist-packages (from matplotlib) (24.2)\n",
            "Requirement already satisfied: pillow>=6.2.0 in /usr/local/lib/python3.10/dist-packages (from matplotlib) (11.0.0)\n",
            "Requirement already satisfied: pyparsing>=2.3.1 in /usr/local/lib/python3.10/dist-packages (from matplotlib) (3.2.0)\n",
            "Requirement already satisfied: six>=1.5 in /usr/local/lib/python3.10/dist-packages (from python-dateutil>=2.8.2->pandas) (1.17.0)\n"
          ]
        }
      ]
    },
    {
      "cell_type": "code",
      "source": [
        "import pandas as pd\n",
        "\n",
        "# Example student dataset\n",
        "data = pd.DataFrame({\n",
        "    'Name': ['Dinesh', 'Srini', 'Raj Kiran', 'Aaron', 'Tharun'],\n",
        "    'Age': [20, 21, 19, 22, 20],\n",
        "    'Sex': ['Female', 'Male', 'Male', 'Female', 'Female'],\n",
        "    'RFID_Number': ['97943607', '02185050', '84823224', '36132854', '46129387']\n",
        "})\n",
        "\n",
        "print(data)"
      ],
      "metadata": {
        "colab": {
          "base_uri": "https://localhost:8080/"
        },
        "id": "UHWthhFwTB5o",
        "outputId": "7f43aa1d-bb25-4546-84e1-ecfb8319e70f"
      },
      "execution_count": 5,
      "outputs": [
        {
          "output_type": "stream",
          "name": "stdout",
          "text": [
            "        Name  Age     Sex RFID_Number\n",
            "0     Dinesh   20  Female    97943607\n",
            "1      Srini   21    Male    02185050\n",
            "2  Raj Kiran   19    Male    84823224\n",
            "3      Aaron   22  Female    36132854\n",
            "4     Tharun   20  Female    46129387\n"
          ]
        }
      ]
    },
    {
      "cell_type": "code",
      "source": [
        "from Crypto.Cipher import AES\n",
        "from Crypto.Util.Padding import pad, unpad\n",
        "import json\n",
        "\n",
        "def aes_encrypt(data, key):\n",
        "    key = key.encode('utf-8')  # Convert key to bytes\n",
        "    cipher = AES.new(key, AES.MODE_CBC)  # AES encryption object\n",
        "    data_bytes = json.dumps(data).encode('utf-8')  # Convert data to bytes\n",
        "    padded_data = pad(data_bytes, AES.block_size)  # Pad data\n",
        "    encrypted_data = cipher.encrypt(padded_data)  # Encrypt\n",
        "    return cipher.iv, encrypted_data\n",
        "\n",
        "def aes_decrypt(encrypted_data, key, iv):\n",
        "    key = key.encode('utf-8')\n",
        "    cipher = AES.new(key, AES.MODE_CBC, iv)\n",
        "    decrypted_data = unpad(cipher.decrypt(encrypted_data), AES.block_size)\n",
        "    return json.loads(decrypted_data.decode('utf-8'))"
      ],
      "metadata": {
        "id": "zAcnp8p6TOkU"
      },
      "execution_count": 6,
      "outputs": []
    },
    {
      "cell_type": "code",
      "source": [
        "import hashlib\n",
        "\n",
        "def hash_data(data):\n",
        "    data_str = json.dumps(data)  # Convert data to string\n",
        "    hashed_data = hashlib.sha256(data_str.encode('utf-8')).hexdigest()\n",
        "    return hashed_data"
      ],
      "metadata": {
        "id": "r3zB3C-xTSQ-"
      },
      "execution_count": 7,
      "outputs": []
    },
    {
      "cell_type": "code",
      "source": [
        "import time\n",
        "\n",
        "def measure_performance(func, *args):\n",
        "    start_time = time.time()\n",
        "    result = func(*args)\n",
        "    end_time = time.time()\n",
        "    return result, end_time - start_time"
      ],
      "metadata": {
        "id": "-jbDt9sGTVPh"
      },
      "execution_count": 8,
      "outputs": []
    },
    {
      "cell_type": "code",
      "source": [
        "# Encrypt the dataset with AES\n",
        "(aes_result, aes_time) = measure_performance(aes_encrypt, data.to_dict(orient='records'), encryption_key)\n",
        "\n",
        "# Unpack the result of AES encryption\n",
        "iv, encrypted_data = aes_result  # aes_encrypt returns a tuple (iv, encrypted_data)\n",
        "\n",
        "print(\"AES Encrypted Data:\", encrypted_data)\n",
        "print(\"Initialization Vector (IV):\", iv)\n",
        "print(\"AES Encryption Time:\", aes_time)\n"
      ],
      "metadata": {
        "colab": {
          "base_uri": "https://localhost:8080/"
        },
        "id": "cixs6qpmTYUl",
        "outputId": "432a8670-ca8e-4bd5-edd0-7f735b149895"
      },
      "execution_count": 9,
      "outputs": [
        {
          "output_type": "stream",
          "name": "stdout",
          "text": [
            "AES Encrypted Data: b'\\x9f\\xd2<jc\\x07<\\xe20\\x9f\\xa7\\xd8\\xcd\\x15\\xb6\\x99\\x0f\\xf6\\x16R\\xb6\\x04g\\xd3\\xe2\\xf5E\\t\"\\xdba=\\xa0\\x1a#\\xe74icZZ\\x03\\xbf\\x8bf\\xca\\xdcw\\xb4\\xd1\\xa7\\xa2\\xc3\\xa32\\xaf\\xef\\x170\\x02\\x19\\xd1\\x0c\\xa9^\\xb0\\xc1\\xb2\\x1aSx*\\x9cN\\xde(\\xd5\\x9e\\x95\\xc6\\x0c\\xf9\\xa5\\xfb\\x8d^\\xe0\\xaf\\x05\\xd92\\xe5h\\x0f\\xd48l\\xdfK\\x02\\xe5\\xb7_\\x17\\xc7F\\xeb7\\x88\\x07/\\xdfH\\xac\\xbd4\\x17y\\x95@\\xa1\\xa9\\xa5\\x94\\x8f\\xb5^:\\xfa\\x8a\\xd1~R\\x00\\xb3#j\\x04\\xea\\xf1\\x1d\\x97mW\\n\\xfa9\\xe7\\xf7\\'$\\xb0\\xefq\\x92\\xcf\\xbd\\xd9>\\x12\\xa5\\xcd\\xde\\\\\\xffv\\x89\\xca\\xb01\\xf1}w\\xdc{\\xbd\\x15\\x83\\xe9\\x15\\x11\\x16-sw\\x10\\xe48\\xd0\\x89|~S\\x1fg\\xcb42q[q\\xa3\\xdf!\\xe6\\xbf\\x1d\\x90^q`\\x84\\xb4 \\x03f\\xf0\\x8f>!\\xcfFk\\xbb\\xdcz\\x81\\x92W\\xb7\\xa3U\\xa1|v\\xc1\\x0e\\xd3r\\xd1&\\x1fG\\x17VK\\xf4\\xe3h-\\xed\\x85s\\xa6/\\x99\\x91\\x10\\x96\\xc4\\xa5\\'5\\r\\xcc\\x9d%\\x96\\xe2!\\xf8\\x00\\xd4l\\xb1\\xff\\rj\\xf4ti\\x95O\\xd2\\xa8\\xdf\\x9f\\x03\\xec]\\x94\\xa0\\xd0\\xcb\\xba\\xf6\\xfa\\xd1|QX\\x8fl\\xdf\\xb2\\xe7\\x0c\\x0fvsffu\\xf1C<$\\\\\\xc1\\x84\\xd3\\x0cWW\\x1c\\xd9\\xedbA~\\x1f\\x01\\xb8Kvil0\\xd59\\xc8\\x83wC\\x0f\\xc3l\\x12\\xc6\\xb7k\\xdb\\x03a(\\x0e\\xa7\\x12\\xf2\\x98I\\x84\\xf4\\xd1\\xf3\\x1d\\xf5-\\xb1\\x13\\xc2O\\\\\\xfb\\xebf\\x8e\\xd1\\xf1mI\\xbe\\x11\\x97'\n",
            "Initialization Vector (IV): b'\\xf0\\xfe\\xc2H\\x87\\x077z\\xe1x\\x10\\xd0\\xfde\\xbd\\x07'\n",
            "AES Encryption Time: 0.001184701919555664\n"
          ]
        }
      ]
    },
    {
      "cell_type": "code",
      "source": [
        "import matplotlib.pyplot as plt\n",
        "\n",
        "# Visualization\n",
        "labels = ['AES Encryption', 'Hashing']\n",
        "times = [aes_time, hash_time]\n",
        "\n",
        "plt.bar(labels, times, color=['blue', 'orange'])\n",
        "plt.ylabel('Time (seconds)')\n",
        "plt.title('Performance Comparison: AES vs Hashing')\n",
        "plt.show()"
      ],
      "metadata": {
        "colab": {
          "base_uri": "https://localhost:8080/",
          "height": 452
        },
        "id": "CehRlaKcTa4j",
        "outputId": "7474a39f-483d-4cf8-da0c-8a14327f4b5f"
      },
      "execution_count": 10,
      "outputs": [
        {
          "output_type": "display_data",
          "data": {
            "text/plain": [
              "<Figure size 640x480 with 1 Axes>"
            ],
            "image/png": "[encoded data removed]"
          },
          "metadata": {}
        }
      ]
    }
  ]
}